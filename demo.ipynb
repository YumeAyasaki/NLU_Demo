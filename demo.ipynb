{
 "cells": [
  {
   "cell_type": "code",
   "execution_count": 1,
   "metadata": {},
   "outputs": [],
   "source": [
    "import tensorflow as tf\n",
    "from tensorflow import keras\n",
    "import tensorflow_datasets as tfds\n",
    "from sklearn.model_selection import train_test_split\n",
    "import numpy as np\n",
    "import pandas as pd\n",
    "from tqdm import tqdm\n",
    "import ipywidgets as widgets\n",
    "from ipywidgets import interact, interact_manual, interactive\n",
    "from IPython.display import display\n",
    "\n",
    "\n",
    "from utils.metric import roc_auc\n",
    "from utils.model import define_rnn_model, define_cnn_model, define_lstm_model, define_gru_model, define_bi_model, define_cnn_rnn_model\n",
    "\n",
    "if not tf.__version__.startswith('2'):\n",
    "    raise ValueError('This code requires TensorFlow V2.x')"
   ]
  },
  {
   "cell_type": "code",
   "execution_count": 3,
   "metadata": {},
   "outputs": [
    {
     "data": {
      "application/vnd.jupyter.widget-view+json": {
       "model_id": "02afaeb7be7e4259975a0659afada86d",
       "version_major": 2,
       "version_minor": 0
      },
      "text/plain": [
       "Dropdown(description='Dữ liệu vào', index=1, options=('Phần trăm', 'Số lượng'), value='Số lượng')"
      ]
     },
     "metadata": {},
     "output_type": "display_data"
    },
    {
     "data": {
      "application/vnd.jupyter.widget-view+json": {
       "model_id": "d15ebd1b34e34ec4b6b9dcd2203c9192",
       "version_major": 2,
       "version_minor": 0
      },
      "text/plain": [
       "IntSlider(value=20000, description='Số lượng', max=223549, step=1000)"
      ]
     },
     "metadata": {},
     "output_type": "display_data"
    }
   ],
   "source": [
    "# Data\n",
    "o_train = pd.read_csv('Data/jigsaw-toxic-comment-train.csv')\n",
    "\n",
    "# Pre processing\n",
    "o_train.drop(['severe_toxic','obscene','threat','insult','identity_hate'],axis=1,inplace=True) # Drop other columns\n",
    "\n",
    "# Get input\n",
    "type_input = widgets.Dropdown(\n",
    "    options=['Phần trăm', 'Số lượng'],\n",
    "    value='Số lượng',\n",
    "    description='Dữ liệu vào',\n",
    "    disabled=False,\n",
    ")\n",
    "value_input = widgets.IntSlider(\n",
    "    value=20000,\n",
    "    min=0,\n",
    "    max=o_train.shape[0],\n",
    "    step=1000,\n",
    "    description='Số lượng',\n",
    "    readout=True\n",
    ")\n",
    "\n",
    "def update_value_input(*args):\n",
    "    if type_input.value == 'Số lượng':\n",
    "        value_input.value=20000\n",
    "        value_input.max=o_train.shape[0]\n",
    "        value_input.step=1000\n",
    "        value_input.description='Số lượng'\n",
    "    else:\n",
    "        value_input.value=50\n",
    "        value_input.max=100\n",
    "        value_input.step=1\n",
    "        value_input.description='Phần trăm'\n",
    "type_input.observe(update_value_input, 'value')\n",
    "\n",
    "display(type_input)\n",
    "display(value_input)\n"
   ]
  },
  {
   "cell_type": "code",
   "execution_count": 4,
   "metadata": {},
   "outputs": [
    {
     "data": {
      "application/vnd.jupyter.widget-view+json": {
       "model_id": "bb80197f665c4513a879bbcfaaa3a225",
       "version_major": 2,
       "version_minor": 0
      },
      "text/plain": [
       "Dropdown(description='Loại mô hình', index=1, options=('cnn', 'rnn', 'lstm', 'gru', 'bi_directional', 'cnn + r…"
      ]
     },
     "metadata": {},
     "output_type": "display_data"
    }
   ],
   "source": [
    "model_array = ['cnn', 'rnn', 'lstm', 'gru', 'bi_directional', 'cnn + rnn']\n",
    "\n",
    "model_input = widgets.Dropdown(\n",
    "    options=model_array,\n",
    "    value='cnn',\n",
    "    description='Loại mô hình',\n",
    "    disabled=False,\n",
    ")\n",
    "\n",
    "display(model_input)"
   ]
  },
  {
   "cell_type": "code",
   "execution_count": null,
   "metadata": {},
   "outputs": [],
   "source": [
    "# # Embedding\n",
    "# embeddings_index = {}\n",
    "# f = open('glove.840B.300d.txt','r',encoding='utf-8')\n",
    "# for line in tqdm(f):\n",
    "#     values = line.split(' ')\n",
    "#     word = values[0]\n",
    "#     coefs = np.asarray([float(val) for val in values[1:]])\n",
    "#     embeddings_index[word] = coefs\n",
    "# f.close()\n",
    "\n",
    "# print('Found %s word vectors.' % len(embeddings_index))"
   ]
  },
  {
   "cell_type": "code",
   "execution_count": 5,
   "metadata": {},
   "outputs": [],
   "source": [
    "if type_input.value == 'Số lượng':\n",
    "    train = o_train.loc[:value_input.value,:]\n",
    "else:\n",
    "    train = o_train.loc[:value_input.value * o_train.shape[0] / 100,:]\n",
    "max_test = train['comment_text'].apply(lambda x:len(str(x).split())).max() # Max test's length\n",
    "\n",
    "xtrain, xvalid, ytrain, yvalid = train_test_split(train.comment_text.values, train.toxic.values, \n",
    "                                                  stratify=train.toxic.values, \n",
    "                                                  random_state=42, \n",
    "                                                  test_size=0.2, shuffle=True)"
   ]
  },
  {
   "cell_type": "code",
   "execution_count": 6,
   "metadata": {},
   "outputs": [],
   "source": [
    "token = keras.preprocessing.text.Tokenizer(num_words=None)\n",
    "\n",
    "token.fit_on_texts(list(xtrain) + list(xvalid))\n",
    "xtrain_seq = token.texts_to_sequences(xtrain)\n",
    "xvalid_seq = token.texts_to_sequences(xvalid)\n",
    "\n",
    "#zero pad the sequences\n",
    "xtrain_pad = keras.preprocessing.sequence.pad_sequences(xtrain_seq, maxlen=max_test)\n",
    "xvalid_pad = keras.preprocessing.sequence.pad_sequences(xvalid_seq, maxlen=max_test)\n",
    "\n",
    "word_index = token.word_index"
   ]
  },
  {
   "cell_type": "code",
   "execution_count": 7,
   "metadata": {},
   "outputs": [
    {
     "name": "stdout",
     "output_type": "stream",
     "text": [
      "Model: \"model\"\n",
      "__________________________________________________________________________________________________\n",
      " Layer (type)                   Output Shape         Param #     Connected to                     \n",
      "==================================================================================================\n",
      " input_1 (InputLayer)           [(None, 1403)]       0           []                               \n",
      "                                                                                                  \n",
      " input_2 (InputLayer)           [(None, 1403)]       0           []                               \n",
      "                                                                                                  \n",
      " input_3 (InputLayer)           [(None, 1403)]       0           []                               \n",
      "                                                                                                  \n",
      " embedding (Embedding)          (None, 1403, 100)    8953500     ['input_1[0][0]']                \n",
      "                                                                                                  \n",
      " embedding_1 (Embedding)        (None, 1403, 100)    8953500     ['input_2[0][0]']                \n",
      "                                                                                                  \n",
      " embedding_2 (Embedding)        (None, 1403, 100)    8953500     ['input_3[0][0]']                \n",
      "                                                                                                  \n",
      " conv1d (Conv1D)                (None, 1400, 32)     12832       ['embedding[0][0]']              \n",
      "                                                                                                  \n",
      " conv1d_1 (Conv1D)              (None, 1398, 32)     19232       ['embedding_1[0][0]']            \n",
      "                                                                                                  \n",
      " conv1d_2 (Conv1D)              (None, 1396, 32)     25632       ['embedding_2[0][0]']            \n",
      "                                                                                                  \n",
      " dropout (Dropout)              (None, 1400, 32)     0           ['conv1d[0][0]']                 \n",
      "                                                                                                  \n",
      " dropout_1 (Dropout)            (None, 1398, 32)     0           ['conv1d_1[0][0]']               \n",
      "                                                                                                  \n",
      " dropout_2 (Dropout)            (None, 1396, 32)     0           ['conv1d_2[0][0]']               \n",
      "                                                                                                  \n",
      " max_pooling1d (MaxPooling1D)   (None, 700, 32)      0           ['dropout[0][0]']                \n",
      "                                                                                                  \n",
      " max_pooling1d_1 (MaxPooling1D)  (None, 699, 32)     0           ['dropout_1[0][0]']              \n",
      "                                                                                                  \n",
      " max_pooling1d_2 (MaxPooling1D)  (None, 698, 32)     0           ['dropout_2[0][0]']              \n",
      "                                                                                                  \n",
      " flatten (Flatten)              (None, 22400)        0           ['max_pooling1d[0][0]']          \n",
      "                                                                                                  \n",
      " flatten_1 (Flatten)            (None, 22368)        0           ['max_pooling1d_1[0][0]']        \n",
      "                                                                                                  \n",
      " flatten_2 (Flatten)            (None, 22336)        0           ['max_pooling1d_2[0][0]']        \n",
      "                                                                                                  \n",
      " concatenate (Concatenate)      (None, 67104)        0           ['flatten[0][0]',                \n",
      "                                                                  'flatten_1[0][0]',              \n",
      "                                                                  'flatten_2[0][0]']              \n",
      "                                                                                                  \n",
      " dense (Dense)                  (None, 10)           671050      ['concatenate[0][0]']            \n",
      "                                                                                                  \n",
      " dense_1 (Dense)                (None, 1)            11          ['dense[0][0]']                  \n",
      "                                                                                                  \n",
      "==================================================================================================\n",
      "Total params: 27,589,257\n",
      "Trainable params: 27,589,257\n",
      "Non-trainable params: 0\n",
      "__________________________________________________________________________________________________\n",
      "Model: \"sequential\"\n",
      "_________________________________________________________________\n",
      " Layer (type)                Output Shape              Param #   \n",
      "=================================================================\n",
      " embedding_3 (Embedding)     (None, 1403, 100)         8953500   \n",
      "                                                                 \n",
      " simple_rnn (SimpleRNN)      (None, 100)               20100     \n",
      "                                                                 \n",
      " dense_2 (Dense)             (None, 1)                 101       \n",
      "                                                                 \n",
      "=================================================================\n",
      "Total params: 8,973,701\n",
      "Trainable params: 8,973,701\n",
      "Non-trainable params: 0\n",
      "_________________________________________________________________\n",
      "Model: \"sequential_1\"\n",
      "_________________________________________________________________\n",
      " Layer (type)                Output Shape              Param #   \n",
      "=================================================================\n",
      " embedding_4 (Embedding)     (None, 1403, 100)         8953500   \n",
      "                                                                 \n",
      " lstm (LSTM)                 (None, 100)               80400     \n",
      "                                                                 \n",
      " dense_3 (Dense)             (None, 1)                 101       \n",
      "                                                                 \n",
      "=================================================================\n",
      "Total params: 9,034,001\n",
      "Trainable params: 9,034,001\n",
      "Non-trainable params: 0\n",
      "_________________________________________________________________\n",
      "Model: \"sequential_2\"\n",
      "_________________________________________________________________\n",
      " Layer (type)                Output Shape              Param #   \n",
      "=================================================================\n",
      " embedding_5 (Embedding)     (None, 1403, 100)         8953500   \n",
      "                                                                 \n",
      " spatial_dropout1d (SpatialD  (None, 1403, 100)        0         \n",
      " ropout1D)                                                       \n",
      "                                                                 \n",
      " gru (GRU)                   (None, 100)               60600     \n",
      "                                                                 \n",
      " dense_4 (Dense)             (None, 1)                 101       \n",
      "                                                                 \n",
      "=================================================================\n",
      "Total params: 9,014,201\n",
      "Trainable params: 9,014,201\n",
      "Non-trainable params: 0\n",
      "_________________________________________________________________\n",
      "Model: \"sequential_3\"\n",
      "_________________________________________________________________\n",
      " Layer (type)                Output Shape              Param #   \n",
      "=================================================================\n",
      " embedding_6 (Embedding)     (None, 1403, 100)         8953500   \n",
      "                                                                 \n",
      " bidirectional (Bidirectiona  (None, 200)              160800    \n",
      " l)                                                              \n",
      "                                                                 \n",
      " dense_5 (Dense)             (None, 1)                 201       \n",
      "                                                                 \n",
      "=================================================================\n",
      "Total params: 9,114,501\n",
      "Trainable params: 9,114,501\n",
      "Non-trainable params: 0\n",
      "_________________________________________________________________\n",
      "Model: \"sequential_4\"\n",
      "_________________________________________________________________\n",
      " Layer (type)                Output Shape              Param #   \n",
      "=================================================================\n",
      " embedding_7 (Embedding)     (None, 1403, 100)         8953500   \n",
      "                                                                 \n",
      " conv1d_3 (Conv1D)           (None, 1397, 32)          22432     \n",
      "                                                                 \n",
      " max_pooling1d_3 (MaxPooling  (None, 279, 32)          0         \n",
      " 1D)                                                             \n",
      "                                                                 \n",
      " bidirectional_1 (Bidirectio  (None, 279, 200)         106400    \n",
      " nal)                                                            \n",
      "                                                                 \n",
      " bidirectional_2 (Bidirectio  (None, 200)              240800    \n",
      " nal)                                                            \n",
      "                                                                 \n",
      " dense_6 (Dense)             (None, 1)                 201       \n",
      "                                                                 \n",
      "=================================================================\n",
      "Total params: 9,323,333\n",
      "Trainable params: 9,323,333\n",
      "Non-trainable params: 0\n",
      "_________________________________________________________________\n"
     ]
    }
   ],
   "source": [
    "max_vocab = len(word_index) + 1\n",
    "model_type_array = {\n",
    "    'cnn': define_cnn_model(max_vocab, max_test),\n",
    "    'rnn': define_rnn_model(max_vocab, max_test), \n",
    "    'lstm': define_lstm_model(max_vocab, max_test), \n",
    "    'gru': define_gru_model(max_vocab, max_test),\n",
    "    'bi_directional': define_bi_model(max_vocab, max_test),\n",
    "    'cnn + rnn': define_cnn_rnn_model(max_vocab, max_test),\n",
    "}\n",
    "model = model_type_array[model_input.value]"
   ]
  },
  {
   "cell_type": "code",
   "execution_count": 8,
   "metadata": {},
   "outputs": [
    {
     "name": "stdout",
     "output_type": "stream",
     "text": [
      "Epoch 1/10\n",
      "1000/1000 [==============================] - 183s 131ms/step - loss: 0.2050 - accuracy: 0.9284\n",
      "Epoch 2/10\n",
      "1000/1000 [==============================] - 126s 126ms/step - loss: 0.1011 - accuracy: 0.9622\n",
      "Epoch 3/10\n",
      "1000/1000 [==============================] - 129s 129ms/step - loss: 0.0511 - accuracy: 0.9828\n",
      "Epoch 4/10\n",
      "1000/1000 [==============================] - 132s 132ms/step - loss: 0.0252 - accuracy: 0.9912\n",
      "Epoch 5/10\n",
      "1000/1000 [==============================] - 122s 122ms/step - loss: 0.0166 - accuracy: 0.9941\n",
      "Epoch 6/10\n",
      "1000/1000 [==============================] - 123s 123ms/step - loss: 0.0132 - accuracy: 0.9958\n",
      "Epoch 7/10\n",
      "1000/1000 [==============================] - 124s 124ms/step - loss: 0.0110 - accuracy: 0.9964\n",
      "Epoch 8/10\n",
      "1000/1000 [==============================] - 127s 127ms/step - loss: 0.0096 - accuracy: 0.9966\n",
      "Epoch 9/10\n",
      "1000/1000 [==============================] - 125s 125ms/step - loss: 0.0082 - accuracy: 0.9971\n",
      "Epoch 10/10\n",
      "1000/1000 [==============================] - 126s 126ms/step - loss: 0.0069 - accuracy: 0.9974\n",
      "251/251 [==============================] - 15s 41ms/step\n",
      "Auc: 0.92%\n"
     ]
    }
   ],
   "source": [
    "if model_input.value == 'cnn':\n",
    "    history = model.fit([xtrain_pad, xtrain_pad, xtrain_pad], ytrain, epochs=10)\n",
    "    model.save('cnn.h5')\n",
    "    scores = model.predict([xtrain_pad, xtrain_pad, xtrain_pad])\n",
    "    print(\"Auc: %.2f%%\" % (roc_auc(scores, yvalid)))\n",
    "else:\n",
    "    history = model.fit(xtrain_pad, ytrain, epochs=10)\n",
    "    model.save(model_input.value + '.h5')\n",
    "    scores = model.predict(xvalid_pad)\n",
    "    print(\"Auc: %.2f%%\" % (roc_auc(scores, yvalid)))"
   ]
  }
 ],
 "metadata": {
  "kernelspec": {
   "display_name": "Python 3",
   "language": "python",
   "name": "python3"
  },
  "language_info": {
   "codemirror_mode": {
    "name": "ipython",
    "version": 3
   },
   "file_extension": ".py",
   "mimetype": "text/x-python",
   "name": "python",
   "nbconvert_exporter": "python",
   "pygments_lexer": "ipython3",
   "version": "3.10.14"
  }
 },
 "nbformat": 4,
 "nbformat_minor": 2
}
